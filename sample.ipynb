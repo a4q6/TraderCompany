{
 "cells": [
  {
   "cell_type": "code",
   "execution_count": 1,
   "metadata": {},
   "outputs": [],
   "source": [
    "import os, sys\n",
    "import pandas as pd\n",
    "import numpy as np\n",
    "import datetime\n",
    "import yfinance as yf\n",
    "import investpy\n",
    "from glob import glob\n",
    "from sklearn.metrics import confusion_matrix\n",
    "from tradercompany import Company"
   ]
  },
  {
   "cell_type": "markdown",
   "metadata": {},
   "source": [
    "---\n",
    "### 1. Prepare Data"
   ]
  },
  {
   "cell_type": "markdown",
   "metadata": {},
   "source": [
    "#### download"
   ]
  },
  {
   "cell_type": "code",
   "execution_count": 2,
   "metadata": {},
   "outputs": [],
   "source": [
    "ticker_info = {\n",
    "    \n",
    "    \"investing\": {\n",
    "        \"Bond\": [\n",
    "            'United States 10-Year',\n",
    "            'United States 1-Year'\n",
    "        ],\n",
    "        \"Currency\": [\n",
    "            \"US Dollar Index\"\n",
    "        ],\n",
    "    },\n",
    "    \n",
    "    \"yfinance\": {\n",
    "        \"Commodity\": [\n",
    "            \"GC=F\",\n",
    "            \"SI=F\",\n",
    "            \"CL=F\",\n",
    "            \"NG=F\"\n",
    "        ],\n",
    "        \"Equity\": [\n",
    "            \"^GDAXI\",\n",
    "            \"^N225\",\n",
    "            \"^FTSE\",\n",
    "            \"^GSPC\",\n",
    "            \"^VIX\"\n",
    "        ],\n",
    "        \"Forex\": [\n",
    "            \"AUDUSD=X\",\n",
    "            \"EURUSD=X\",\n",
    "            \"GBPUSD=X\",\n",
    "            \"USDJPY=X\",\n",
    "            \"USDCHF=X\",\n",
    "            \"USDTRY=X\"\n",
    "        ]\n",
    "    }\n",
    "}"
   ]
  },
  {
   "cell_type": "code",
   "execution_count": 3,
   "metadata": {},
   "outputs": [],
   "source": [
    "def get_investcom(symbol):\n",
    "    search_res = investpy.search(text=symbol)\n",
    "    search_res = [r for r in search_res if r.name == symbol][0]\n",
    "    df = search_res.retrieve_historical_data(\n",
    "        from_date='01/01/1950',\n",
    "        to_date='01/04/2021'\n",
    "    ).drop_duplicates()\n",
    "    return df\n",
    "\n",
    "def get_bulk_yfincane(symbol_list):\n",
    "    df = yf.download(\" \".join(symbol_list), interval=\"1d\", period=\"max\", end=\"2021-04-01\")\n",
    "    df = df.swaplevel(0, 1, axis=1)\n",
    "    tickers = df.columns.get_level_values(0).unique()\n",
    "    res = {}\n",
    "    for sym in tickers:\n",
    "        res[sym] = df.loc[:, sym]\n",
    "    return res"
   ]
  },
  {
   "cell_type": "code",
   "execution_count": 4,
   "metadata": {},
   "outputs": [
    {
     "name": "stdout",
     "output_type": "stream",
     "text": [
      "United States 10-Year\n",
      "United States 1-Year\n",
      "US Dollar Index\n",
      "[*********************100%***********************]  15 of 15 completed\n"
     ]
    }
   ],
   "source": [
    "# pull sample data\n",
    "os.makedirs(\"data/\", exist_ok=True)\n",
    "\n",
    "# investing.com\n",
    "tickers = np.concatenate(list(ticker_info[\"investing\"].values()))\n",
    "for sym in tickers:\n",
    "    print(sym)\n",
    "    df = get_investcom(sym)\n",
    "    df.to_csv(f'''data/{sym.replace(\" \", \"_\")}.csv''')\n",
    "\n",
    "# yahoo\n",
    "tickers = np.concatenate(list(ticker_info[\"yfinance\"].values()))\n",
    "df_dict = get_bulk_yfincane(tickers)\n",
    "for sym, df in df_dict.items():\n",
    "    df.to_csv(f'''data/{sym}.csv''')"
   ]
  },
  {
   "cell_type": "markdown",
   "metadata": {},
   "source": [
    "#### preprocess"
   ]
  },
  {
   "cell_type": "code",
   "execution_count": 4,
   "metadata": {},
   "outputs": [],
   "source": [
    "# load data\n",
    "files = glob(\"data/*\")\n",
    "data = {}\n",
    "for file in files:\n",
    "    ticker = file.split(\"/\")[-1].replace(\".csv\", \"\").replace(\"=X\", \"\").replace(\"=F\",\"\").replace(\"^\", \"\").replace(\"-\", \"\")\n",
    "    data[ticker] = pd.read_csv(file, parse_dates=[\"Date\"], index_col=[\"Date\"])"
   ]
  },
  {
   "cell_type": "code",
   "execution_count": 5,
   "metadata": {},
   "outputs": [
    {
     "data": {
      "text/html": [
       "<div>\n",
       "<style scoped>\n",
       "    .dataframe tbody tr th:only-of-type {\n",
       "        vertical-align: middle;\n",
       "    }\n",
       "\n",
       "    .dataframe tbody tr th {\n",
       "        vertical-align: top;\n",
       "    }\n",
       "\n",
       "    .dataframe thead th {\n",
       "        text-align: right;\n",
       "    }\n",
       "</style>\n",
       "<table border=\"1\" class=\"dataframe\">\n",
       "  <thead>\n",
       "    <tr style=\"text-align: right;\">\n",
       "      <th></th>\n",
       "      <th>N225</th>\n",
       "      <th>EURUSD</th>\n",
       "      <th>USDJPY</th>\n",
       "      <th>SI</th>\n",
       "      <th>AUDUSD</th>\n",
       "      <th>United_States_1Year</th>\n",
       "      <th>United_States_10Year</th>\n",
       "      <th>VIX</th>\n",
       "      <th>FTSE</th>\n",
       "      <th>GSPC</th>\n",
       "      <th>USDCHF</th>\n",
       "      <th>GC</th>\n",
       "      <th>CL</th>\n",
       "      <th>NG</th>\n",
       "      <th>USDTRY</th>\n",
       "      <th>GBPUSD</th>\n",
       "      <th>GDAXI</th>\n",
       "      <th>US_Dollar_Index</th>\n",
       "    </tr>\n",
       "    <tr>\n",
       "      <th>Date</th>\n",
       "      <th></th>\n",
       "      <th></th>\n",
       "      <th></th>\n",
       "      <th></th>\n",
       "      <th></th>\n",
       "      <th></th>\n",
       "      <th></th>\n",
       "      <th></th>\n",
       "      <th></th>\n",
       "      <th></th>\n",
       "      <th></th>\n",
       "      <th></th>\n",
       "      <th></th>\n",
       "      <th></th>\n",
       "      <th></th>\n",
       "      <th></th>\n",
       "      <th></th>\n",
       "      <th></th>\n",
       "    </tr>\n",
       "  </thead>\n",
       "  <tbody>\n",
       "    <tr>\n",
       "      <th>1927-12-30</th>\n",
       "      <td>NaN</td>\n",
       "      <td>NaN</td>\n",
       "      <td>NaN</td>\n",
       "      <td>NaN</td>\n",
       "      <td>NaN</td>\n",
       "      <td>NaN</td>\n",
       "      <td>NaN</td>\n",
       "      <td>NaN</td>\n",
       "      <td>NaN</td>\n",
       "      <td>17.66</td>\n",
       "      <td>NaN</td>\n",
       "      <td>NaN</td>\n",
       "      <td>NaN</td>\n",
       "      <td>NaN</td>\n",
       "      <td>NaN</td>\n",
       "      <td>NaN</td>\n",
       "      <td>NaN</td>\n",
       "      <td>NaN</td>\n",
       "    </tr>\n",
       "    <tr>\n",
       "      <th>2021-04-01</th>\n",
       "      <td>NaN</td>\n",
       "      <td>NaN</td>\n",
       "      <td>NaN</td>\n",
       "      <td>NaN</td>\n",
       "      <td>NaN</td>\n",
       "      <td>0.063</td>\n",
       "      <td>1.6735</td>\n",
       "      <td>NaN</td>\n",
       "      <td>NaN</td>\n",
       "      <td>NaN</td>\n",
       "      <td>NaN</td>\n",
       "      <td>NaN</td>\n",
       "      <td>NaN</td>\n",
       "      <td>NaN</td>\n",
       "      <td>NaN</td>\n",
       "      <td>NaN</td>\n",
       "      <td>NaN</td>\n",
       "      <td>92.93</td>\n",
       "    </tr>\n",
       "  </tbody>\n",
       "</table>\n",
       "</div>"
      ],
      "text/plain": [
       "            N225  EURUSD  USDJPY  SI  AUDUSD  United_States_1Year  \\\n",
       "Date                                                                \n",
       "1927-12-30   NaN     NaN     NaN NaN     NaN                  NaN   \n",
       "2021-04-01   NaN     NaN     NaN NaN     NaN                0.063   \n",
       "\n",
       "            United_States_10Year  VIX  FTSE   GSPC  USDCHF  GC  CL  NG  \\\n",
       "Date                                                                     \n",
       "1927-12-30                   NaN  NaN   NaN  17.66     NaN NaN NaN NaN   \n",
       "2021-04-01                1.6735  NaN   NaN    NaN     NaN NaN NaN NaN   \n",
       "\n",
       "            USDTRY  GBPUSD  GDAXI  US_Dollar_Index  \n",
       "Date                                                \n",
       "1927-12-30     NaN     NaN    NaN              NaN  \n",
       "2021-04-01     NaN     NaN    NaN            92.93  "
      ]
     },
     "execution_count": 5,
     "metadata": {},
     "output_type": "execute_result"
    }
   ],
   "source": [
    "# use only close price\n",
    "closes = pd.concat([df.Close.to_frame(ticker).copy() for ticker, df in data.items()], axis=1)\n",
    "closes = closes.resample(\"1d\").first()\n",
    "closes.head(1).append(closes.tail(1))"
   ]
  },
  {
   "cell_type": "code",
   "execution_count": 6,
   "metadata": {},
   "outputs": [
    {
     "data": {
      "image/png": "[encoded data removed]",
      "text/plain": [
       "<Figure size 1080x216 with 1 Axes>"
      ]
     },
     "metadata": {
      "needs_background": "light"
     },
     "output_type": "display_data"
    }
   ],
   "source": [
    "# number of NaN  -> use 2009.01.01:\n",
    "closes.isna().loc[closes.index.weekday<5].loc[\"2000.01.01\":].sum(axis=1).plot(figsize=(15,3));"
   ]
  },
  {
   "cell_type": "code",
   "execution_count": 7,
   "metadata": {},
   "outputs": [],
   "source": [
    "closes = closes.loc[closes.index.weekday<5].loc[\"2009.01.01\":].fillna(method=\"ffill\").dropna()"
   ]
  },
  {
   "cell_type": "markdown",
   "metadata": {},
   "source": [
    "---\n",
    "### Train"
   ]
  },
  {
   "cell_type": "code",
   "execution_count": 8,
   "metadata": {},
   "outputs": [],
   "source": [
    "target = \"USDJPY\"\n",
    "features, labels = closes.pct_change(), closes[target].pct_change(-1).mul(-1)\n",
    "_ = features.join(labels.to_frame(\"label\")).dropna()\n",
    "features, labels = _.iloc[:, :-1], _.iloc[:, -1]"
   ]
  },
  {
   "cell_type": "code",
   "execution_count": 33,
   "metadata": {},
   "outputs": [],
   "source": [
    "model = Company(\n",
    "    n_traders=100,\n",
    "    n_features=features.shape[1], \n",
    "    max_terms=10,\n",
    "    max_lag=9,\n",
    "    educate_pct=50,\n",
    "    eval_lookback=100\n",
    ")"
   ]
  },
  {
   "cell_type": "code",
   "execution_count": 34,
   "metadata": {},
   "outputs": [],
   "source": [
    "# reshape feature\n",
    "X, y = model.conv_feature(features.values, labels.values)"
   ]
  },
  {
   "cell_type": "code",
   "execution_count": 35,
   "metadata": {},
   "outputs": [
    {
     "data": {
      "text/plain": [
       "(3182, 10, 18)"
      ]
     },
     "execution_count": 35,
     "metadata": {},
     "output_type": "execute_result"
    }
   ],
   "source": [
    "X.shape"
   ]
  },
  {
   "cell_type": "code",
   "execution_count": 39,
   "metadata": {
    "scrolled": true
   },
   "outputs": [
    {
     "name": "stderr",
     "output_type": "stream",
     "text": [
      "100%|██████████| 1900/1900 [02:12<00:00, 14.30it/s]\n"
     ]
    }
   ],
   "source": [
    "pred = model.fit_predict(x_train, y_train, 100)"
   ]
  },
  {
   "cell_type": "code",
   "execution_count": 38,
   "metadata": {},
   "outputs": [],
   "source": [
    "# split \n",
    "n_train = 2000\n",
    "x_train = X[:n_train]\n",
    "y_train = y[:n_train]\n",
    "x_test  = X[n_train:]\n",
    "y_test  = y[n_train:]\n",
    "n_warm  = 100"
   ]
  },
  {
   "cell_type": "code",
   "execution_count": 40,
   "metadata": {},
   "outputs": [
    {
     "data": {
      "text/plain": [
       "94   -0.042706\n",
       "1    -0.023444\n",
       "40   -0.001611\n",
       "97    0.000964\n",
       "24    0.011026\n",
       "        ...   \n",
       "9     0.223055\n",
       "16    0.227315\n",
       "34    0.234151\n",
       "60    0.271861\n",
       "85    0.372786\n",
       "Length: 100, dtype: float64"
      ]
     },
     "execution_count": 40,
     "metadata": {},
     "output_type": "execute_result"
    }
   ],
   "source": [
    "model.scores.sort_values()"
   ]
  },
  {
   "cell_type": "code",
   "execution_count": 47,
   "metadata": {},
   "outputs": [],
   "source": [
    "pnl = lambda x, y: pd.Series(np.sign(x) * y).cumsum()"
   ]
  },
  {
   "cell_type": "code",
   "execution_count": 52,
   "metadata": {},
   "outputs": [
    {
     "data": {
      "text/plain": [
       "<matplotlib.axes._subplots.AxesSubplot at 0x7f780445af98>"
      ]
     },
     "execution_count": 52,
     "metadata": {},
     "output_type": "execute_result"
    },
    {
     "data": {
      "image/png": "[encoded data removed]",
      "text/plain": [
       "<Figure size 432x288 with 1 Axes>"
      ]
     },
     "metadata": {
      "needs_background": "light"
     },
     "output_type": "display_data"
    }
   ],
   "source": [
    "pnl(pred, y_train).plot()"
   ]
  },
  {
   "cell_type": "markdown",
   "metadata": {},
   "source": [
    "本当にカンニングないか再確認"
   ]
  },
  {
   "cell_type": "code",
   "execution_count": 53,
   "metadata": {},
   "outputs": [],
   "source": [
    "trader = model.get_trader_i(16)"
   ]
  },
  {
   "cell_type": "code",
   "execution_count": 54,
   "metadata": {},
   "outputs": [
    {
     "data": {
      "text/plain": [
       "<matplotlib.axes._subplots.AxesSubplot at 0x7f7806490f60>"
      ]
     },
     "execution_count": 54,
     "metadata": {},
     "output_type": "execute_result"
    },
    {
     "data": {
      "image/png": "[encoded data removed]",
      "text/plain": [
       "<Figure size 432x288 with 1 Axes>"
      ]
     },
     "metadata": {
      "needs_background": "light"
     },
     "output_type": "display_data"
    }
   ],
   "source": [
    "trader._recalc_predicts_hist(x_train)\n",
    "pnl(trader._pred_hist, y_train).plot()"
   ]
  },
  {
   "cell_type": "code",
   "execution_count": null,
   "metadata": {},
   "outputs": [],
   "source": []
  },
  {
   "cell_type": "code",
   "execution_count": null,
   "metadata": {},
   "outputs": [],
   "source": []
  }
 ],
 "metadata": {
  "kernelspec": {
   "display_name": "anaconda3530",
   "language": "python",
   "name": "anaconda3530"
  },
  "language_info": {
   "codemirror_mode": {
    "name": "ipython",
    "version": 3
   },
   "file_extension": ".py",
   "mimetype": "text/x-python",
   "name": "python",
   "nbconvert_exporter": "python",
   "pygments_lexer": "ipython3",
   "version": "3.7.0"
  }
 },
 "nbformat": 4,
 "nbformat_minor": 2
}
